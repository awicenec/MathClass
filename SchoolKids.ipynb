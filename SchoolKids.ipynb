{
 "cells": [
  {
   "cell_type": "markdown",
   "metadata": {},
   "source": [
    "# Using Python and Jupyter for Data Analysis"
   ]
  },
  {
   "cell_type": "markdown",
   "metadata": {},
   "source": [
    "Welcome to the exciting world of Data Science! The environment you are in right now is what many professional Data Scientists are using to explore and analyse complex data sets. It is called Jupyter and we are using the environment with a programming language called Python. \n",
    "\n",
    "Jupyter is providing a whole ecosystem of tools, what we are specifically using here is a Jupyter Notebook. \n",
    "\n",
    "A Jupyter Notebook is a completely interactive, web-based environment in which you can use the programming language, in our case Python, in your browser. \n",
    "\n",
    "Usually you would use your own computer, but for this class we are using Jupyter in the cloud, more specifically we are using a service called Binder, which allows to build a stand-alone Jupyter server images just for your notebooks and share them with others. There are many things going on behind the scenes to make this happen, but Binder itself is building the dedicated Jupyter server and the running it on the Google Cloud. "
   ]
  },
  {
   "cell_type": "markdown",
   "metadata": {},
   "source": [
    "## Let's get started"
   ]
  },
  {
   "cell_type": "markdown",
   "metadata": {},
   "source": [
    "A notebook consists of a vertical column of cells like the one this text is in. Cells are like paragraphs in a text, but they are 'active', can be executed and edited much more like cells in an Excel spreadsheet. Like in a spreadsheet you can move from one cell to the next using the cursor keys or the mouse and the green or blue box around the current cell indicates where you are. Easy!"
   ]
  },
  {
   "cell_type": "markdown",
   "metadata": {},
   "source": [
    "There are two main kinds of cells, one is called 'Markdown', the other are Code cells, in our case for Python code. Markdown is for text. You can enter a cell by pressing 'Enter' or double clicking. You can exit a cell by pressing Esc. Once in a cell you can change the content, like in Excel. \n",
    "\n",
    "If you want to execute the cell you can press Shift+Enter (execute and go to next) or Control+Enter (just execute)."
   ]
  },
  {
   "cell_type": "markdown",
   "metadata": {},
   "source": [
    "Let's try a few simple code cells (remember that you have the whole Python language at your fingertips!):"
   ]
  },
  {
   "cell_type": "code",
   "execution_count": 1,
   "metadata": {},
   "outputs": [],
   "source": [
    "x = 14 * 3"
   ]
  },
  {
   "cell_type": "code",
   "execution_count": 2,
   "metadata": {
    "tags": []
   },
   "outputs": [
    {
     "name": "stdout",
     "output_type": "stream",
     "text": [
      "x = 42; y = 2744\n"
     ]
    }
   ],
   "source": [
    "y = 14**3 \n",
    "print('x = {0}; y = {1}'.format(x, y))"
   ]
  },
  {
   "cell_type": "code",
   "execution_count": 3,
   "metadata": {},
   "outputs": [
    {
     "data": {
      "text/plain": [
       "True"
      ]
     },
     "execution_count": 3,
     "metadata": {},
     "output_type": "execute_result"
    }
   ],
   "source": [
    "x < y"
   ]
  },
  {
   "cell_type": "markdown",
   "metadata": {},
   "source": [
    "If you want to learn Python, there are myriads of resources available on the web..."
   ]
  },
  {
   "cell_type": "markdown",
   "metadata": {},
   "source": [
    "## Now let's get to the data analysis:"
   ]
  },
  {
   "cell_type": "markdown",
   "metadata": {
    "tags": []
   },
   "source": [
    "### First we need to load a powerful library:\n",
    "Libraries are software packages written for Python for specific purposes."
   ]
  },
  {
   "cell_type": "code",
   "execution_count": 4,
   "metadata": {},
   "outputs": [],
   "source": [
    "import pandas as pd               # This is the workhorse for everything Data Science in Python"
   ]
  },
  {
   "cell_type": "markdown",
   "metadata": {},
   "source": [
    "#### Read the data using Pandas:"
   ]
  },
  {
   "cell_type": "code",
   "execution_count": 6,
   "metadata": {},
   "outputs": [],
   "source": [
    "df = pd.read_csv('data/data1000.csv')  # That's just the CSV data you've received"
   ]
  },
  {
   "cell_type": "markdown",
   "metadata": {},
   "source": [
    "The command above does not produce any output, but the result of reading the file is now contained in the variable *df*. A variable in a computer language can stand for almost anything, in this case it stands for the complete data set, including all the descriptions. In Pandas this data structure is called a *Data Frame*."
   ]
  },
  {
   "cell_type": "markdown",
   "metadata": {},
   "source": [
    "#### How does the data look like?"
   ]
  },
  {
   "cell_type": "markdown",
   "metadata": {},
   "source": [
    "Just typing the variable name shows a summary of the content. That is a nice feature of the way Pandas has implemented the *Data Frame*."
   ]
  },
  {
   "cell_type": "code",
   "execution_count": 7,
   "metadata": {},
   "outputs": [
    {
     "data": {
      "text/html": [
       "<div>\n",
       "<style scoped>\n",
       "    .dataframe tbody tr th:only-of-type {\n",
       "        vertical-align: middle;\n",
       "    }\n",
       "\n",
       "    .dataframe tbody tr th {\n",
       "        vertical-align: top;\n",
       "    }\n",
       "\n",
       "    .dataframe thead th {\n",
       "        text-align: right;\n",
       "    }\n",
       "</style>\n",
       "<table border=\"1\" class=\"dataframe\">\n",
       "  <thead>\n",
       "    <tr style=\"text-align: right;\">\n",
       "      <th></th>\n",
       "      <th>Country</th>\n",
       "      <th>Region</th>\n",
       "      <th>Gender</th>\n",
       "      <th>Ageyears</th>\n",
       "      <th>Handed</th>\n",
       "      <th>Height</th>\n",
       "      <th>Foot_Length</th>\n",
       "      <th>Arm_Span</th>\n",
       "      <th>Languages_spoken</th>\n",
       "      <th>Travel_to_School</th>\n",
       "      <th>...</th>\n",
       "      <th>Reaction_time</th>\n",
       "      <th>Score_in_memory_game</th>\n",
       "      <th>Favourite_physical_activity</th>\n",
       "      <th>Importance_reducing_pollution</th>\n",
       "      <th>Importance_recycling_rubbish</th>\n",
       "      <th>Importance_conserving_water</th>\n",
       "      <th>Importance_saving_enery</th>\n",
       "      <th>Importance_owning_computer</th>\n",
       "      <th>Importance_Internet_access</th>\n",
       "      <th>Unnamed: 20</th>\n",
       "    </tr>\n",
       "  </thead>\n",
       "  <tbody>\n",
       "    <tr>\n",
       "      <th>0</th>\n",
       "      <td>OZ</td>\n",
       "      <td>Victoria</td>\n",
       "      <td>F</td>\n",
       "      <td>12</td>\n",
       "      <td>R</td>\n",
       "      <td>154</td>\n",
       "      <td>25</td>\n",
       "      <td>146</td>\n",
       "      <td>2</td>\n",
       "      <td>Car</td>\n",
       "      <td>...</td>\n",
       "      <td>0.560</td>\n",
       "      <td>51.0</td>\n",
       "      <td>Table Tennis</td>\n",
       "      <td>1</td>\n",
       "      <td>598.0</td>\n",
       "      <td>687</td>\n",
       "      <td>722.0</td>\n",
       "      <td>1.0</td>\n",
       "      <td>125.0</td>\n",
       "      <td>NaN</td>\n",
       "    </tr>\n",
       "    <tr>\n",
       "      <th>1</th>\n",
       "      <td>USA</td>\n",
       "      <td>NJ</td>\n",
       "      <td>F</td>\n",
       "      <td>15</td>\n",
       "      <td>R</td>\n",
       "      <td>170</td>\n",
       "      <td>27</td>\n",
       "      <td>163</td>\n",
       "      <td>1</td>\n",
       "      <td>Walk</td>\n",
       "      <td>...</td>\n",
       "      <td>0.361</td>\n",
       "      <td>0.0</td>\n",
       "      <td>Running/Jogging</td>\n",
       "      <td>503</td>\n",
       "      <td>743.0</td>\n",
       "      <td>342</td>\n",
       "      <td>NaN</td>\n",
       "      <td>364.0</td>\n",
       "      <td>348.0</td>\n",
       "      <td>NaN</td>\n",
       "    </tr>\n",
       "    <tr>\n",
       "      <th>2</th>\n",
       "      <td>UK</td>\n",
       "      <td>North West</td>\n",
       "      <td>F</td>\n",
       "      <td>14</td>\n",
       "      <td>R</td>\n",
       "      <td>159</td>\n",
       "      <td>22</td>\n",
       "      <td>162</td>\n",
       "      <td>1</td>\n",
       "      <td>Bus</td>\n",
       "      <td>...</td>\n",
       "      <td>0.290</td>\n",
       "      <td>43.0</td>\n",
       "      <td>Dancing</td>\n",
       "      <td>714</td>\n",
       "      <td>843.0</td>\n",
       "      <td>851</td>\n",
       "      <td>816.0</td>\n",
       "      <td>216.0</td>\n",
       "      <td>302.0</td>\n",
       "      <td>NaN</td>\n",
       "    </tr>\n",
       "    <tr>\n",
       "      <th>3</th>\n",
       "      <td>NZ</td>\n",
       "      <td>Auckland</td>\n",
       "      <td>F</td>\n",
       "      <td>10</td>\n",
       "      <td>R</td>\n",
       "      <td>131</td>\n",
       "      <td>20</td>\n",
       "      <td>134</td>\n",
       "      <td>1</td>\n",
       "      <td>Car</td>\n",
       "      <td>...</td>\n",
       "      <td>0.619</td>\n",
       "      <td>0.0</td>\n",
       "      <td>Netball</td>\n",
       "      <td>750</td>\n",
       "      <td>NaN</td>\n",
       "      <td>1000</td>\n",
       "      <td>NaN</td>\n",
       "      <td>NaN</td>\n",
       "      <td>NaN</td>\n",
       "      <td>NaN</td>\n",
       "    </tr>\n",
       "    <tr>\n",
       "      <th>4</th>\n",
       "      <td>USA</td>\n",
       "      <td>AZ</td>\n",
       "      <td>F</td>\n",
       "      <td>17</td>\n",
       "      <td>R</td>\n",
       "      <td>153</td>\n",
       "      <td>22</td>\n",
       "      <td>160</td>\n",
       "      <td>1</td>\n",
       "      <td>Walk</td>\n",
       "      <td>...</td>\n",
       "      <td>0.300</td>\n",
       "      <td>30.0</td>\n",
       "      <td>Tennis</td>\n",
       "      <td>500</td>\n",
       "      <td>450.0</td>\n",
       "      <td>650</td>\n",
       "      <td>800.0</td>\n",
       "      <td>100.0</td>\n",
       "      <td>100.0</td>\n",
       "      <td>NaN</td>\n",
       "    </tr>\n",
       "    <tr>\n",
       "      <th>...</th>\n",
       "      <td>...</td>\n",
       "      <td>...</td>\n",
       "      <td>...</td>\n",
       "      <td>...</td>\n",
       "      <td>...</td>\n",
       "      <td>...</td>\n",
       "      <td>...</td>\n",
       "      <td>...</td>\n",
       "      <td>...</td>\n",
       "      <td>...</td>\n",
       "      <td>...</td>\n",
       "      <td>...</td>\n",
       "      <td>...</td>\n",
       "      <td>...</td>\n",
       "      <td>...</td>\n",
       "      <td>...</td>\n",
       "      <td>...</td>\n",
       "      <td>...</td>\n",
       "      <td>...</td>\n",
       "      <td>...</td>\n",
       "      <td>...</td>\n",
       "    </tr>\n",
       "    <tr>\n",
       "      <th>995</th>\n",
       "      <td>OZ</td>\n",
       "      <td>New South Wales</td>\n",
       "      <td>F</td>\n",
       "      <td>15</td>\n",
       "      <td>R</td>\n",
       "      <td>185</td>\n",
       "      <td>26</td>\n",
       "      <td>181</td>\n",
       "      <td>2</td>\n",
       "      <td>Bus</td>\n",
       "      <td>...</td>\n",
       "      <td>0.370</td>\n",
       "      <td>22.0</td>\n",
       "      <td>Netball</td>\n",
       "      <td>527</td>\n",
       "      <td>533.0</td>\n",
       "      <td>805</td>\n",
       "      <td>409.0</td>\n",
       "      <td>462.0</td>\n",
       "      <td>610.0</td>\n",
       "      <td>NaN</td>\n",
       "    </tr>\n",
       "    <tr>\n",
       "      <th>996</th>\n",
       "      <td>USA</td>\n",
       "      <td>HI</td>\n",
       "      <td>F</td>\n",
       "      <td>17</td>\n",
       "      <td>R</td>\n",
       "      <td>154</td>\n",
       "      <td>25</td>\n",
       "      <td>149</td>\n",
       "      <td>1</td>\n",
       "      <td>Car</td>\n",
       "      <td>...</td>\n",
       "      <td>0.700</td>\n",
       "      <td>43.0</td>\n",
       "      <td>Tennis</td>\n",
       "      <td>400</td>\n",
       "      <td>300.0</td>\n",
       "      <td>800</td>\n",
       "      <td>800.0</td>\n",
       "      <td>1000.0</td>\n",
       "      <td>1000.0</td>\n",
       "      <td>NaN</td>\n",
       "    </tr>\n",
       "    <tr>\n",
       "      <th>997</th>\n",
       "      <td>NZ</td>\n",
       "      <td>Taranaki</td>\n",
       "      <td>M</td>\n",
       "      <td>10</td>\n",
       "      <td>L</td>\n",
       "      <td>149</td>\n",
       "      <td>21</td>\n",
       "      <td>150</td>\n",
       "      <td>1</td>\n",
       "      <td>Car</td>\n",
       "      <td>...</td>\n",
       "      <td>0.000</td>\n",
       "      <td>0.0</td>\n",
       "      <td>Rugby Union</td>\n",
       "      <td>0</td>\n",
       "      <td>NaN</td>\n",
       "      <td>1000</td>\n",
       "      <td>NaN</td>\n",
       "      <td>NaN</td>\n",
       "      <td>NaN</td>\n",
       "      <td>NaN</td>\n",
       "    </tr>\n",
       "    <tr>\n",
       "      <th>998</th>\n",
       "      <td>CA</td>\n",
       "      <td>Nova Scotia</td>\n",
       "      <td>M</td>\n",
       "      <td>18</td>\n",
       "      <td>R</td>\n",
       "      <td>175</td>\n",
       "      <td>30</td>\n",
       "      <td>173</td>\n",
       "      <td>1</td>\n",
       "      <td>Car</td>\n",
       "      <td>...</td>\n",
       "      <td>0.330</td>\n",
       "      <td>47.0</td>\n",
       "      <td>Hockey (Ice)</td>\n",
       "      <td>1000</td>\n",
       "      <td>503.0</td>\n",
       "      <td>294</td>\n",
       "      <td>497.0</td>\n",
       "      <td>497.0</td>\n",
       "      <td>561.0</td>\n",
       "      <td>NaN</td>\n",
       "    </tr>\n",
       "    <tr>\n",
       "      <th>999</th>\n",
       "      <td>UK</td>\n",
       "      <td>East Midlands</td>\n",
       "      <td>F</td>\n",
       "      <td>14</td>\n",
       "      <td>R</td>\n",
       "      <td>166</td>\n",
       "      <td>24</td>\n",
       "      <td>168</td>\n",
       "      <td>3</td>\n",
       "      <td>Car</td>\n",
       "      <td>...</td>\n",
       "      <td>0.590</td>\n",
       "      <td>43.0</td>\n",
       "      <td>Dancing</td>\n",
       "      <td>385</td>\n",
       "      <td>602.0</td>\n",
       "      <td>418</td>\n",
       "      <td>523.0</td>\n",
       "      <td>1000.0</td>\n",
       "      <td>1000.0</td>\n",
       "      <td>NaN</td>\n",
       "    </tr>\n",
       "  </tbody>\n",
       "</table>\n",
       "<p>1000 rows × 21 columns</p>\n",
       "</div>"
      ],
      "text/plain": [
       "    Country           Region Gender  Ageyears Handed  Height  Foot_Length  \\\n",
       "0        OZ         Victoria      F        12      R     154           25   \n",
       "1       USA               NJ      F        15      R     170           27   \n",
       "2        UK       North West      F        14      R     159           22   \n",
       "3        NZ         Auckland      F        10      R     131           20   \n",
       "4       USA               AZ      F        17      R     153           22   \n",
       "..      ...              ...    ...       ...    ...     ...          ...   \n",
       "995      OZ  New South Wales      F        15      R     185           26   \n",
       "996     USA               HI      F        17      R     154           25   \n",
       "997      NZ         Taranaki      M        10      L     149           21   \n",
       "998      CA      Nova Scotia      M        18      R     175           30   \n",
       "999      UK    East Midlands      F        14      R     166           24   \n",
       "\n",
       "     Arm_Span  Languages_spoken Travel_to_School  ...  Reaction_time  \\\n",
       "0         146                 2              Car  ...          0.560   \n",
       "1         163                 1             Walk  ...          0.361   \n",
       "2         162                 1              Bus  ...          0.290   \n",
       "3         134                 1              Car  ...          0.619   \n",
       "4         160                 1             Walk  ...          0.300   \n",
       "..        ...               ...              ...  ...            ...   \n",
       "995       181                 2              Bus  ...          0.370   \n",
       "996       149                 1              Car  ...          0.700   \n",
       "997       150                 1              Car  ...          0.000   \n",
       "998       173                 1              Car  ...          0.330   \n",
       "999       168                 3              Car  ...          0.590   \n",
       "\n",
       "     Score_in_memory_game  Favourite_physical_activity  \\\n",
       "0                    51.0                 Table Tennis   \n",
       "1                     0.0              Running/Jogging   \n",
       "2                    43.0                      Dancing   \n",
       "3                     0.0                      Netball   \n",
       "4                    30.0                       Tennis   \n",
       "..                    ...                          ...   \n",
       "995                  22.0                      Netball   \n",
       "996                  43.0                       Tennis   \n",
       "997                   0.0                  Rugby Union   \n",
       "998                  47.0                 Hockey (Ice)   \n",
       "999                  43.0                      Dancing   \n",
       "\n",
       "    Importance_reducing_pollution  Importance_recycling_rubbish  \\\n",
       "0                               1                         598.0   \n",
       "1                             503                         743.0   \n",
       "2                             714                         843.0   \n",
       "3                             750                           NaN   \n",
       "4                             500                         450.0   \n",
       "..                            ...                           ...   \n",
       "995                           527                         533.0   \n",
       "996                           400                         300.0   \n",
       "997                             0                           NaN   \n",
       "998                          1000                         503.0   \n",
       "999                           385                         602.0   \n",
       "\n",
       "     Importance_conserving_water  Importance_saving_enery  \\\n",
       "0                            687                    722.0   \n",
       "1                            342                      NaN   \n",
       "2                            851                    816.0   \n",
       "3                           1000                      NaN   \n",
       "4                            650                    800.0   \n",
       "..                           ...                      ...   \n",
       "995                          805                    409.0   \n",
       "996                          800                    800.0   \n",
       "997                         1000                      NaN   \n",
       "998                          294                    497.0   \n",
       "999                          418                    523.0   \n",
       "\n",
       "     Importance_owning_computer  Importance_Internet_access  Unnamed: 20  \n",
       "0                           1.0                       125.0          NaN  \n",
       "1                         364.0                       348.0          NaN  \n",
       "2                         216.0                       302.0          NaN  \n",
       "3                           NaN                         NaN          NaN  \n",
       "4                         100.0                       100.0          NaN  \n",
       "..                          ...                         ...          ...  \n",
       "995                       462.0                       610.0          NaN  \n",
       "996                      1000.0                      1000.0          NaN  \n",
       "997                         NaN                         NaN          NaN  \n",
       "998                       497.0                       561.0          NaN  \n",
       "999                      1000.0                      1000.0          NaN  \n",
       "\n",
       "[1000 rows x 21 columns]"
      ]
     },
     "execution_count": 7,
     "metadata": {},
     "output_type": "execute_result"
    }
   ],
   "source": [
    "df"
   ]
  },
  {
   "cell_type": "markdown",
   "metadata": {},
   "source": [
    "As you can see the variable *'df'* contains something quite different from your usual Math variable! It contains the whole data set in a quite convenient form to deal with in a programming language.\n",
    "\n",
    "You can get the headings of the columns by 'asking' the variable:"
   ]
  },
  {
   "cell_type": "code",
   "execution_count": 8,
   "metadata": {},
   "outputs": [
    {
     "data": {
      "text/plain": [
       "Index(['Country', 'Region', 'Gender', 'Ageyears', 'Handed', 'Height',\n",
       "       'Foot_Length', 'Arm_Span', 'Languages_spoken', 'Travel_to_School',\n",
       "       'Travel_time_to_School', 'Reaction_time', 'Score_in_memory_game',\n",
       "       'Favourite_physical_activity', 'Importance_reducing_pollution',\n",
       "       'Importance_recycling_rubbish', 'Importance_conserving_water',\n",
       "       'Importance_saving_enery', 'Importance_owning_computer',\n",
       "       'Importance_Internet_access', 'Unnamed: 20'],\n",
       "      dtype='object')"
      ]
     },
     "execution_count": 8,
     "metadata": {},
     "output_type": "execute_result"
    }
   ],
   "source": [
    "df.keys()"
   ]
  },
  {
   "cell_type": "markdown",
   "metadata": {},
   "source": [
    "There is a pretty strange column in there called *'Unnamed: 20'*. Let's examine what it contains:"
   ]
  },
  {
   "cell_type": "code",
   "execution_count": 9,
   "metadata": {},
   "outputs": [
    {
     "data": {
      "text/plain": [
       "0     NaN\n",
       "1     NaN\n",
       "2     NaN\n",
       "3     NaN\n",
       "4     NaN\n",
       "       ..\n",
       "995   NaN\n",
       "996   NaN\n",
       "997   NaN\n",
       "998   NaN\n",
       "999   NaN\n",
       "Name: Unnamed: 20, Length: 1000, dtype: float64"
      ]
     },
     "execution_count": 9,
     "metadata": {},
     "output_type": "execute_result"
    }
   ],
   "source": [
    "df['Unnamed: 20']"
   ]
  },
  {
   "cell_type": "markdown",
   "metadata": {},
   "source": [
    "Seems to contain just invalid numbers (NaN means *'Not a Number'*), but let's verify that:"
   ]
  },
  {
   "cell_type": "code",
   "execution_count": 10,
   "metadata": {},
   "outputs": [
    {
     "data": {
      "text/plain": [
       "False"
      ]
     },
     "execution_count": 10,
     "metadata": {},
     "output_type": "execute_result"
    }
   ],
   "source": [
    "df['Unnamed: 20'].notnull().values.any()"
   ]
  },
  {
   "cell_type": "markdown",
   "metadata": {},
   "source": [
    "In words the line above means: Are there *any values* in the column *'Unnamed: 20'* that are *not null*?\n",
    "The answer is *False*, which means there are no such values.\n",
    "\n",
    "As you can see there are functions for all kinds of use cases in Pandas...\n",
    "\n",
    "Also to answer the exactly opposite question:"
   ]
  },
  {
   "cell_type": "code",
   "execution_count": 11,
   "metadata": {},
   "outputs": [
    {
     "data": {
      "text/plain": [
       "True"
      ]
     },
     "execution_count": 11,
     "metadata": {},
     "output_type": "execute_result"
    }
   ],
   "source": [
    "df['Unnamed: 20'].isnull().values.all()"
   ]
  },
  {
   "cell_type": "markdown",
   "metadata": {},
   "source": [
    "Note the usage of *all()* here!\n",
    "\n",
    "This seems to be garbage, thus we drop the whole column:"
   ]
  },
  {
   "cell_type": "code",
   "execution_count": 12,
   "metadata": {},
   "outputs": [],
   "source": [
    "df = df.drop(columns=['Unnamed: 20'])"
   ]
  },
  {
   "cell_type": "markdown",
   "metadata": {},
   "source": [
    "#### Create a histogram plot of reaction times of females and males"
   ]
  },
  {
   "cell_type": "markdown",
   "metadata": {},
   "source": [
    "Now we will try to answer the question whether there is a significant difference between the measured reaction times of female and male students. \n",
    "\n",
    "To do this, we need to get the values separated by the *Gender* column. You can do this the hard way, but of course there is also a Pandas function to perform exactly that for you and even for the complete data frame at once! This function is called *groupby* and takes the column name you want to use for grouping as an argument.\n",
    "\n",
    "Calling it naîvely like this, results in a pretty strange output:"
   ]
  },
  {
   "cell_type": "code",
   "execution_count": 13,
   "metadata": {},
   "outputs": [
    {
     "data": {
      "text/plain": [
       "<pandas.core.groupby.generic.DataFrameGroupBy object at 0x103809e20>"
      ]
     },
     "execution_count": 13,
     "metadata": {},
     "output_type": "execute_result"
    }
   ],
   "source": [
    "df.groupby('Gender')"
   ]
  },
  {
   "cell_type": "markdown",
   "metadata": {},
   "source": [
    "This is plain Python gibberish, but it reveals that the result is actually something that is called an *object*. Very often objects have quite a lot of functionality embedded in them. In fact the Pandas Data Frame is also an object."
   ]
  },
  {
   "cell_type": "code",
   "execution_count": 14,
   "metadata": {},
   "outputs": [],
   "source": [
    "# Some settings used a lot below. We'll come back to this later.\n",
    "GROUPBY = ['Gender']   # dataset will be grouped by these columns\n",
    "VALUE_COLUMN = 'Reaction_time'   # the column used as a value (should be numerical)\n",
    "X_TITLE = VALUE_COLUMN           # the title for the x-axis\n",
    "Y_TITLE = GROUPBY                # the title for the y-axis\n",
    "SCALED = True                    # normalize histograms or not"
   ]
  },
  {
   "cell_type": "code",
   "execution_count": 15,
   "metadata": {},
   "outputs": [],
   "source": [
    "df_G = df.groupby(GROUPBY)       # perform the grouping again, but keep the result in a new variable"
   ]
  },
  {
   "cell_type": "code",
   "execution_count": 16,
   "metadata": {},
   "outputs": [
    {
     "data": {
      "text/plain": [
       "dict_keys(['F', 'M'])"
      ]
     },
     "execution_count": 16,
     "metadata": {},
     "output_type": "execute_result"
    }
   ],
   "source": [
    "df_G.groups.keys()               # Which are the groups identified in the data?"
   ]
  },
  {
   "cell_type": "code",
   "execution_count": 17,
   "metadata": {},
   "outputs": [
    {
     "data": {
      "image/png": "[encoded data removed]",
      "text/plain": [
       "<Figure size 864x576 with 1 Axes>"
      ]
     },
     "metadata": {
      "needs_background": "light"
     },
     "output_type": "display_data"
    }
   ],
   "source": [
    "# This is pretty powerful: it plots the histograms for all groups using a single command. \n",
    "# The rest of the keywords are just to tidy things up a bit.\n",
    "\n",
    "ax = df_G[VALUE_COLUMN].plot.hist(figsize=(12,8), legend=True, alpha=0.5, density=SCALED)\n",
    "_ = ax[-1].set_xlabel(X_TITLE)\n",
    "_ = ax[-1].set_ylabel(Y_TITLE)"
   ]
  },
  {
   "cell_type": "markdown",
   "metadata": {},
   "source": [
    "### Now we are trying to deal with the 'outliers':"
   ]
  },
  {
   "cell_type": "markdown",
   "metadata": {},
   "source": [
    "We need to do this for the groups separately:"
   ]
  },
  {
   "cell_type": "code",
   "execution_count": 18,
   "metadata": {},
   "outputs": [],
   "source": [
    "# This is assuming that we have just two groups:\n",
    "df_f = df[VALUE_COLUMN].where(df['Gender'] == 'F')\n",
    "df_m = df[VALUE_COLUMN].where(df['Gender'] == 'M')"
   ]
  },
  {
   "cell_type": "markdown",
   "metadata": {},
   "source": [
    "Since we will use this a few times, we just define a couple of functions and use another library to help us with that job."
   ]
  },
  {
   "cell_type": "code",
   "execution_count": 19,
   "metadata": {},
   "outputs": [],
   "source": [
    "import scipy, scipy.stats                      # a big Python module for everything science data exploration"
   ]
  },
  {
   "cell_type": "code",
   "execution_count": 20,
   "metadata": {},
   "outputs": [],
   "source": [
    "def remove_outliers(s, low=None, high=None, index=False):\n",
    "    \"\"\"\n",
    "    Helper function to remove outliers above or below certain quantiles\n",
    "    \"\"\"\n",
    "    if not low:\n",
    "        low = 0.25   # standard for outlier definition\n",
    "    if not high:\n",
    "        high = 1 - low\n",
    "    iqr = scipy.stats.iqr(s, nan_policy='omit')\n",
    "    if not index:\n",
    "        return s[s.between(s.quantile(low) - 1.5 * iqr, s.quantile(high) + 1.5 * iqr)]\n",
    "    else:\n",
    "        return s.between(s.quantile(low) - 1.5 * iqr, s.quantile(high) + 1.5 * iqr)"
   ]
  },
  {
   "cell_type": "code",
   "execution_count": 21,
   "metadata": {},
   "outputs": [],
   "source": [
    "def outlier_cutoff(s):  \n",
    "    \"\"\"\n",
    "    Helper function to get the IQR and standard quantile bounds.\n",
    "    \"\"\"\n",
    "    iqr = scipy.stats.iqr(s, nan_policy='omit')\n",
    "    return {'iqr':iqr, 'lower bound': s.quantile(0.25)-1.5*iqr, 'upper bound': s.quantile(0.75)+1.5*iqr}"
   ]
  },
  {
   "cell_type": "code",
   "execution_count": 22,
   "metadata": {},
   "outputs": [],
   "source": [
    "df_fc = remove_outliers(df_f, low=0.25)\n",
    "df_mc = remove_outliers(df_m, low=0.25)\n",
    "df_f = df[VALUE_COLUMN].where(df['Gender'] == 'F')"
   ]
  },
  {
   "cell_type": "code",
   "execution_count": 23,
   "metadata": {},
   "outputs": [],
   "source": [
    "import matplotlib.pyplot as plt   # very powerful python plotting library"
   ]
  },
  {
   "cell_type": "markdown",
   "metadata": {},
   "source": [
    "### we can plot without even knowing the number or name of the groups"
   ]
  },
  {
   "cell_type": "code",
   "execution_count": 24,
   "metadata": {},
   "outputs": [
    {
     "data": {
      "image/png": "[encoded data removed]",
      "text/plain": [
       "<Figure size 864x576 with 1 Axes>"
      ]
     },
     "metadata": {
      "needs_background": "light"
     },
     "output_type": "display_data"
    }
   ],
   "source": [
    "# get the actual group names\n",
    "group_names = list(df_G.groups.keys()) \n",
    "\n",
    "quant = 0.25  # quantile to remove outliers \n",
    "\n",
    "fig = plt.figure(figsize=[12,8])  # start a new figure with a certain size\n",
    "ax = fig.gca()                    # get the figure axes\n",
    "\n",
    "# remove outliers in first group\n",
    "G0_cleaned = remove_outliers(df_G.get_group(group_names[0])[VALUE_COLUMN], low=quant)\n",
    "\n",
    "# do the plot for first plot\n",
    "G0_cleaned.plot.hist(ax=ax, figsize=(12,8), legend=True, alpha=0.5, density=SCALED)\n",
    "\n",
    "# create a subplots for all remaining groups\n",
    "for g in group_names[1:]:  \n",
    "    # sometimes the group keys have NaN values: Not good, because histogram will fail!\n",
    "    # we will just omit that subplot.\n",
    "    try: \n",
    "        g_cleaned = remove_outliers(df_G.get_group(g)[VALUE_COLUMN], low=quant)\n",
    "        g_cleaned.plot.hist(ax=ax, figsize=(12,8), legend=True, alpha=0.5, density=SCALED)\n",
    "    except: \n",
    "        next\n",
    "\n",
    "# put the group names in the legend and set the axis labels\n",
    "_ = ax.legend(group_names)\n",
    "_ = ax.set_xlabel(X_TITLE)\n",
    "_ = ax.set_ylabel('Frequency')\n",
    "\n",
    "# Change y axis label if the histogram is normalized.\n",
    "if SCALED: ax.set_ylabel('Normalized Frequency')"
   ]
  },
  {
   "cell_type": "markdown",
   "metadata": {},
   "source": [
    "Let's do something a bit more advanced, also showing the power of matplotlib."
   ]
  },
  {
   "cell_type": "code",
   "execution_count": 25,
   "metadata": {},
   "outputs": [
    {
     "data": {
      "image/png": "[encoded data removed]",
      "text/plain": [
       "<Figure size 864x576 with 1 Axes>"
      ]
     },
     "metadata": {
      "needs_background": "light"
     },
     "output_type": "display_data"
    }
   ],
   "source": [
    "fig = plt.figure(figsize=[12,8])  # start a new figure with a certain size\n",
    "ax = fig.gca()                    # get the figure axes\n",
    "\n",
    "_ = df.boxplot(ax=ax, by=GROUPBY, column=VALUE_COLUMN, vert=False)\n",
    "_ = ax.set_xlabel(X_TITLE)\n",
    "_ = ax.set_ylabel(Y_TITLE)\n",
    "_ = ax.set_title('')"
   ]
  },
  {
   "cell_type": "markdown",
   "metadata": {},
   "source": [
    "There is an interesting kind of plot, which shows something similar to the boxplot above, but even more additional information. That kind of plot is called a *violin plot* and is not available in matplotlib. Thus we load yet another library to enable this."
   ]
  },
  {
   "cell_type": "code",
   "execution_count": 26,
   "metadata": {},
   "outputs": [],
   "source": [
    "import seaborn as sns             # high level plots"
   ]
  },
  {
   "cell_type": "markdown",
   "metadata": {},
   "source": [
    "The library allows a very flexible configuration of the plots and thus the commands look a bit daunting. The way this is implemented below also allows for more than two groups to be shown correctly (think about more groups than just female and male). We will explore this afterwards."
   ]
  },
  {
   "cell_type": "code",
   "execution_count": 27,
   "metadata": {},
   "outputs": [
    {
     "data": {
      "text/plain": [
       "['Gender']"
      ]
     },
     "execution_count": 27,
     "metadata": {},
     "output_type": "execute_result"
    }
   ],
   "source": [
    "GROUPBY"
   ]
  },
  {
   "cell_type": "code",
   "execution_count": 28,
   "metadata": {},
   "outputs": [
    {
     "data": {
      "image/png": "[encoded data removed]",
      "text/plain": [
       "<Figure size 864x576 with 1 Axes>"
      ]
     },
     "metadata": {
      "needs_background": "light"
     },
     "output_type": "display_data"
    }
   ],
   "source": [
    "fig = plt.figure(figsize=[12,8])  # start a new figure with a certain size\n",
    "ax = fig.gca()                    # get the figure axes\n",
    "\n",
    "dfc = df\n",
    "# dfc = df.loc[df.Reaction_time <= 1.5]\n",
    "\n",
    "if len(df_G.groups.keys()) != 2:\n",
    "    _ = sns.violinplot(data=dfc, x=GROUPBY[0], y=VALUE_COLUMN, hue=GROUPBY[1], split=False, inner=\"quartile\",bw=0.25, cut=0)\n",
    "else:\n",
    "    dfc['dummy'] = 'A'\n",
    "    _ = sns.violinplot(data=dfc, x='dummy', y=VALUE_COLUMN, hue=GROUPBY[0], width=0.25, split=True, inner=\"quartile\", bw=0.25, cut=0)\n",
    "    _ = ax.set_xlabel(X_TITLE)\n",
    "    _ = ax.set_xticklabels('')\n",
    "_ = ax.set_ylabel(Y_TITLE)\n",
    "_ = ax.set_title('')"
   ]
  },
  {
   "cell_type": "markdown",
   "metadata": {},
   "source": [
    "The plot shows many things in one go:\n",
    "\n",
    "1. Both groups side-by-side (female blue, male orange)\n",
    "2. The smoothed distributions\n",
    "3. Median, lower and upper quartiles\n",
    "4. The tails as well.\n",
    "\n",
    "... and it even looks quite pleasing, which is an important aspect for plots."
   ]
  },
  {
   "cell_type": "markdown",
   "metadata": {},
   "source": [
    "## Examine a different hypothesis:\n",
    "Arm span of a person on average is approximately the same as the person's height.\n",
    "\n",
    "That would mean that the values plotted against each other should approximately follow a line with a gradient of 1. \n",
    "\n",
    "Remember the equation y = m * x + c ?? \n",
    "\n",
    "We are now trying to prove that this is correct:"
   ]
  },
  {
   "cell_type": "code",
   "execution_count": 29,
   "metadata": {},
   "outputs": [
    {
     "data": {
      "text/plain": [
       "Index(['Country', 'Region', 'Gender', 'Ageyears', 'Handed', 'Height',\n",
       "       'Foot_Length', 'Arm_Span', 'Languages_spoken', 'Travel_to_School',\n",
       "       'Travel_time_to_School', 'Reaction_time', 'Score_in_memory_game',\n",
       "       'Favourite_physical_activity', 'Importance_reducing_pollution',\n",
       "       'Importance_recycling_rubbish', 'Importance_conserving_water',\n",
       "       'Importance_saving_enery', 'Importance_owning_computer',\n",
       "       'Importance_Internet_access', 'dummy'],\n",
       "      dtype='object')"
      ]
     },
     "execution_count": 29,
     "metadata": {},
     "output_type": "execute_result"
    }
   ],
   "source": [
    "df.keys()"
   ]
  },
  {
   "cell_type": "code",
   "execution_count": 30,
   "metadata": {},
   "outputs": [],
   "source": [
    "X_COLUMN = 'Height'\n",
    "Y_COLUMN = 'Arm_Span'"
   ]
  },
  {
   "cell_type": "code",
   "execution_count": 31,
   "metadata": {
    "tags": []
   },
   "outputs": [
    {
     "data": {
      "image/png": "[encoded data removed]",
      "text/plain": [
       "<Figure size 864x576 with 1 Axes>"
      ]
     },
     "metadata": {
      "needs_background": "light"
     },
     "output_type": "display_data"
    }
   ],
   "source": [
    "fig = plt.figure(figsize=[12,8])  # start a new figure with a certain size\n",
    "ax = fig.gca()                    # get the figure axes\n",
    "ax.set_xlim([100, 230])\n",
    "ax.set_ylim([100, 230])\n",
    "ax = sns.regplot(ax=ax, x=df[X_COLUMN],y=df[Y_COLUMN])"
   ]
  },
  {
   "cell_type": "code",
   "execution_count": 32,
   "metadata": {},
   "outputs": [
    {
     "data": {
      "image/png": "[encoded data removed]",
      "text/plain": [
       "<Figure size 864x144 with 1 Axes>"
      ]
     },
     "metadata": {
      "needs_background": "light"
     },
     "output_type": "display_data"
    }
   ],
   "source": [
    "fig = plt.figure(figsize=[12,2])  # start a new figure with a certain size\n",
    "ax = fig.gca()                    # get the figure axes\n",
    "_ = sns.residplot(x=df[X_COLUMN],y=df[Y_COLUMN])"
   ]
  },
  {
   "cell_type": "markdown",
   "metadata": {},
   "source": [
    "### Same but using a feature rich stats library"
   ]
  },
  {
   "cell_type": "code",
   "execution_count": 33,
   "metadata": {},
   "outputs": [
    {
     "name": "stderr",
     "output_type": "stream",
     "text": [
      "/Users/awicenec/.pyenv/versions/py3.8/lib/python3.8/site-packages/joblib/_multiprocessing_helpers.py:45: UserWarning: cannot import name 'SemLock' from '_multiprocessing' (/Users/awicenec/.pyenv/versions/py3.8/lib/python3.8/lib-dynload/_multiprocessing.cpython-38-darwin.so).  joblib will operate in serial mode\n",
      "  warnings.warn('%s.  joblib will operate in serial mode' % (e,))\n"
     ]
    }
   ],
   "source": [
    "import statsmodels.api as sm      # a Python statistics module "
   ]
  },
  {
   "cell_type": "code",
   "execution_count": 34,
   "metadata": {
    "tags": []
   },
   "outputs": [
    {
     "name": "stdout",
     "output_type": "stream",
     "text": [
      "                            OLS Regression Results                            \n",
      "==============================================================================\n",
      "Dep. Variable:               Arm_Span   R-squared:                       0.508\n",
      "Model:                            OLS   Adj. R-squared:                  0.508\n",
      "Method:                 Least Squares   F-statistic:                     1031.\n",
      "Date:                Wed, 21 Oct 2020   Prob (F-statistic):          5.79e-156\n",
      "Time:                        09:36:53   Log-Likelihood:                -3935.0\n",
      "No. Observations:                1000   AIC:                             7874.\n",
      "Df Residuals:                     998   BIC:                             7884.\n",
      "Df Model:                           1                                         \n",
      "Covariance Type:            nonrobust                                         \n",
      "==============================================================================\n",
      "                 coef    std err          t      P>|t|      [0.025      0.975]\n",
      "------------------------------------------------------------------------------\n",
      "const         16.2104      4.444      3.648      0.000       7.490      24.931\n",
      "Height         0.8873      0.028     32.112      0.000       0.833       0.942\n",
      "==============================================================================\n",
      "Omnibus:                      362.993   Durbin-Watson:                   2.075\n",
      "Prob(Omnibus):                  0.000   Jarque-Bera (JB):             5721.880\n",
      "Skew:                          -1.226   Prob(JB):                         0.00\n",
      "Kurtosis:                      14.459   Cond. No.                     1.82e+03\n",
      "==============================================================================\n",
      "\n",
      "Notes:\n",
      "[1] Standard Errors assume that the covariance matrix of the errors is correctly specified.\n",
      "[2] The condition number is large, 1.82e+03. This might indicate that there are\n",
      "strong multicollinearity or other numerical problems.\n"
     ]
    }
   ],
   "source": [
    "X = sm.add_constant(df[X_COLUMN])  # make sure the algorithm has enough degrees of freedom\n",
    "Y = df[Y_COLUMN]                   # use Arm_Span; Hypothesis: Arm_Span ~= Height\n",
    "model = sm.OLS(Y, X).fit()         # Perform the fit\n",
    "print(model.summary())             # show fitting summary"
   ]
  },
  {
   "cell_type": "markdown",
   "metadata": {},
   "source": [
    "### m = 0.886 and R-squared is 0.508, a reasonable fit, but the data has quite a few outliers\n",
    "\n",
    "### Cleanup outliers:"
   ]
  },
  {
   "cell_type": "code",
   "execution_count": 35,
   "metadata": {
    "tags": []
   },
   "outputs": [
    {
     "name": "stdout",
     "output_type": "stream",
     "text": [
      "56 outliers identified:\n",
      "Fit results without outliers:\n",
      "                            OLS Regression Results                            \n",
      "==============================================================================\n",
      "Dep. Variable:                      y   R-squared:                       0.791\n",
      "Model:                            OLS   Adj. R-squared:                  0.791\n",
      "Method:                 Least Squares   F-statistic:                     3565.\n",
      "Date:                Wed, 21 Oct 2020   Prob (F-statistic):          1.78e-322\n",
      "Time:                        09:37:00   Log-Likelihood:                -3156.6\n",
      "No. Observations:                 944   AIC:                             6317.\n",
      "Df Residuals:                     942   BIC:                             6327.\n",
      "Df Model:                           1                                         \n",
      "Covariance Type:            nonrobust                                         \n",
      "==============================================================================\n",
      "                 coef    std err          t      P>|t|      [0.025      0.975]\n",
      "------------------------------------------------------------------------------\n",
      "const         -0.4550      2.687     -0.169      0.866      -5.729       4.819\n",
      "x1             0.9963      0.017     59.709      0.000       0.964       1.029\n",
      "==============================================================================\n",
      "Omnibus:                       51.202   Durbin-Watson:                   2.043\n",
      "Prob(Omnibus):                  0.000   Jarque-Bera (JB):              148.583\n",
      "Skew:                          -0.207   Prob(JB):                     5.44e-33\n",
      "Kurtosis:                       4.899   Cond. No.                     1.94e+03\n",
      "==============================================================================\n",
      "\n",
      "Notes:\n",
      "[1] Standard Errors assume that the covariance matrix of the errors is correctly specified.\n",
      "[2] The condition number is large, 1.94e+03. This might indicate that there are\n",
      "strong multicollinearity or other numerical problems.\n"
     ]
    }
   ],
   "source": [
    "out = model.outlier_test()     # check for outliers\n",
    "\n",
    "select = abs(out['student_resid']) <= 2.  \n",
    "\n",
    "yfit_df = pd.DataFrame(model.fittedvalues)  # the fitted values (on the line)\n",
    "\n",
    "Xdf = pd.DataFrame(X.values[:,1])\n",
    "Ydf = pd.DataFrame(Y)\n",
    "Xclean = Xdf.loc[(select).values].values # remove all X coords with a residual > 2\n",
    "Yclean = Ydf.loc[(select).values].values # remove all Y coords with a residual > 2\n",
    "yfit_clean = yfit_df.loc[(select).values].values\n",
    "\n",
    "print(\"{0} outliers identified:\".format(len(df[X_COLUMN]) - len(Xclean)))\n",
    "\n",
    "# perform the fit without outliers\n",
    "Xfit = sm.add_constant(Xclean)\n",
    "cfit = sm.OLS(Yclean, Xfit).fit()\n",
    "print(\"Fit results without outliers:\")\n",
    "print(cfit.summary())"
   ]
  },
  {
   "cell_type": "markdown",
   "metadata": {},
   "source": [
    "### m is now 0.9963 and R-squared 0.791: quite an improvement! Seems that our hypotheses was correct."
   ]
  },
  {
   "cell_type": "code",
   "execution_count": 36,
   "metadata": {},
   "outputs": [
    {
     "data": {
      "image/png": "[encoded data removed]",
      "text/plain": [
       "<Figure size 864x576 with 1 Axes>"
      ]
     },
     "metadata": {
      "needs_background": "light"
     },
     "output_type": "display_data"
    }
   ],
   "source": [
    "fig = plt.figure(figsize=[12,8])  # start a new figure with a certain size\n",
    "ax = fig.gca()                    # get the figure axes\n",
    "\n",
    "_ = plt.scatter(df[X_COLUMN], Y)                                # points with outliers\n",
    "_ = plt.plot(df[X_COLUMN], model.fittedvalues, color=\"red\")     # fit line with outliers\n",
    "_ = plt.scatter(Xclean, Yclean, color=\"orange\")                 # points without outliers\n",
    "_ = plt.plot(Xclean, cfit.fittedvalues, color=\"green\")          # fit line without outliers\n",
    "ax.set_xlabel(X_COLUMN)\n",
    "ax.set_ylabel(Y_COLUMN)\n",
    "plt.show()"
   ]
  },
  {
   "cell_type": "code",
   "execution_count": 37,
   "metadata": {
    "tags": []
   },
   "outputs": [
    {
     "name": "stdout",
     "output_type": "stream",
     "text": [
      "{'iqr': 0.16999999999999998, 'lower bound': 0.08500000000000002, 'upper bound': 0.765}\n"
     ]
    }
   ],
   "source": [
    "print(outlier_cutoff(df_f))"
   ]
  }
 ],
 "metadata": {
  "hide_input": false,
  "kernelspec": {
   "display_name": "Python 3",
   "language": "python",
   "name": "python3"
  },
  "language_info": {
   "codemirror_mode": {
    "name": "ipython",
    "version": 3
   },
   "file_extension": ".py",
   "mimetype": "text/x-python",
   "name": "python",
   "nbconvert_exporter": "python",
   "pygments_lexer": "ipython3",
   "version": "3.8.2"
  }
 },
 "nbformat": 4,
 "nbformat_minor": 2
}
