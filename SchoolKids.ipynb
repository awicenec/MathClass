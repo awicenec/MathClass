{
 "cells": [
  {
   "cell_type": "markdown",
   "metadata": {},
   "source": [
    "# Using Python and Jupyter for Data Analysis"
   ]
  },
  {
   "cell_type": "markdown",
   "metadata": {},
   "source": [
    "### Install required packages (do this only once):"
   ]
  },
  {
   "cell_type": "code",
   "execution_count": null,
   "metadata": {
    "tags": []
   },
   "outputs": [],
   "source": [
    "import sys\n",
    "!{sys.executable} -m pip install --upgrade pip\n",
    "!{sys.executable} -m pip install seaborn\n",
    "!{sys.executable} -m pip install pandas\n",
    "!{sys.executable} -m pip install matplotlib\n",
    "!{sys.executable} -m pip install statsmodels\n",
    "!{sys.executable} -m pip install scipy\n",
    "!{sys.executable} -m pip install sklearn"
   ]
  },
  {
   "cell_type": "markdown",
   "metadata": {
    "tags": []
   },
   "source": [
    "### Load a few libraries"
   ]
  },
  {
   "cell_type": "code",
   "execution_count": null,
   "metadata": {},
   "outputs": [],
   "source": [
    "import pandas as pd               # This is the workhorse for everything Data Science in Python\n",
    "import matplotlib.pyplot as plt   # very powerful python plotting library\n",
    "import seaborn as sns             # high level plots\n",
    "import statsmodels.api as sm      # a Python statistics module \n",
    "import scipy                      # a big Python module for everything science data exploration\n",
    "import numpy as np                # very big Python module for numerical calculations\n",
    "from sklearn.linear_model import LinearRegression  # we are just using the LR part of the ML module"
   ]
  },
  {
   "cell_type": "markdown",
   "metadata": {},
   "source": [
    "#### Read the data"
   ]
  },
  {
   "cell_type": "code",
   "execution_count": null,
   "metadata": {},
   "outputs": [],
   "source": [
    "df = pd.read_csv('data/data1000.csv')  # That's just the CSV data you've received"
   ]
  },
  {
   "cell_type": "code",
   "execution_count": null,
   "metadata": {},
   "outputs": [],
   "source": [
    "# How does that look like?\n",
    "df"
   ]
  },
  {
   "cell_type": "code",
   "execution_count": null,
   "metadata": {},
   "outputs": [],
   "source": [
    "df.keys()"
   ]
  },
  {
   "cell_type": "markdown",
   "metadata": {},
   "source": [
    "#### Create a histogram plot of reaction times of females and males"
   ]
  },
  {
   "cell_type": "code",
   "execution_count": null,
   "metadata": {},
   "outputs": [],
   "source": [
    "# Some global settings used a lot below\n",
    "GROUPBY = ['Gender']   # dataset will be grouped by these columns\n",
    "VALUE_COLUMN = 'Reaction_time'   # the column used as a value (should be numerical)\n",
    "X_TITLE = VALUE_COLUMN           # the title for the x-axis\n",
    "Y_TITLE = GROUPBY                # the title for the y-axis\n",
    "SCALED = True                    # normalized histograms or not"
   ]
  },
  {
   "cell_type": "code",
   "execution_count": null,
   "metadata": {},
   "outputs": [],
   "source": [
    "df_G = df.groupby(GROUPBY)       # perform the grouping"
   ]
  },
  {
   "cell_type": "code",
   "execution_count": null,
   "metadata": {},
   "outputs": [],
   "source": [
    "# This is pretty powerful: it plots the histograms for all groups using a single command. The rest of the keywords are just to tidy things up a bit.\n",
    "\n",
    "_ = df_G[VALUE_COLUMN].plot.hist(figsize=(12,8), legend=True, alpha=0.5, density=SCALED)"
   ]
  },
  {
   "cell_type": "markdown",
   "metadata": {},
   "source": [
    "#### Fixing the labels using the figure directly:"
   ]
  },
  {
   "cell_type": "code",
   "execution_count": null,
   "metadata": {},
   "outputs": [],
   "source": [
    "fig = plt.figure(figsize=[12,8])  # start a figure with a certain size\n",
    "ax = fig.gca()                    # get the figure axes\n",
    "df_G[VALUE_COLUMN].hist(ax=ax, legend=True, alpha=0.5, density=SCALED) # draw the histograms on it.\n",
    "_ = ax.set_xlabel(X_TITLE)\n",
    "_ = ax.set_ylabel('Frequency')\n",
    "if SCALED: ax.set_ylabel('Normalized Frequency')\n",
    "plt.show()"
   ]
  },
  {
   "cell_type": "markdown",
   "metadata": {},
   "source": [
    "### Now we are trying to deal with the 'outliers':"
   ]
  },
  {
   "cell_type": "markdown",
   "metadata": {},
   "source": [
    "We need to do this for the groups separately:"
   ]
  },
  {
   "cell_type": "code",
   "execution_count": null,
   "metadata": {},
   "outputs": [],
   "source": [
    "# This is assuming that we have just two groups:\n",
    "df_f = df[VALUE_COLUMN].where(df['Gender'] == 'F')\n",
    "df_m = df[VALUE_COLUMN].where(df['Gender'] == 'M')"
   ]
  },
  {
   "cell_type": "code",
   "execution_count": null,
   "metadata": {},
   "outputs": [],
   "source": [
    "def remove_outliers(s, low=None, high=None, index=False):\n",
    "    # just a small helper function to remove outliers above or below certain quantiles\n",
    "    if not low:\n",
    "        low = 0.25   # standard for outlier definition\n",
    "    if not high:\n",
    "        high = 1 - low\n",
    "    iqr = scipy.stats.iqr(s, nan_policy='omit')\n",
    "    if not index:\n",
    "        return s[s.between(s.quantile(low)-1.5*iqr, s.quantile(high)+1.5*iqr)]\n",
    "    else:\n",
    "        return s.between(s.quantile(low)-1.5*iqr, s.quantile(high)+1.5*iqr)"
   ]
  },
  {
   "cell_type": "code",
   "execution_count": null,
   "metadata": {},
   "outputs": [],
   "source": [
    "def outlier_cutoff(s):  \n",
    "    iqr = scipy.stats.iqr(s, nan_policy='omit')\n",
    "    return {'iqr':iqr, 'lower bound': s.quantile(0.25)-1.5*iqr, 'upper bound': s.quantile(0.75)+1.5*iqr}"
   ]
  },
  {
   "cell_type": "code",
   "execution_count": null,
   "metadata": {},
   "outputs": [],
   "source": [
    "df_fc = remove_outliers(df_f, low=0.25)\n",
    "df_mc = remove_outliers(df_m, low=0.25)\n",
    "df_f = df[VALUE_COLUMN].where(df['Gender'] == 'F')"
   ]
  },
  {
   "cell_type": "code",
   "execution_count": null,
   "metadata": {
    "tags": []
   },
   "outputs": [],
   "source": [
    "fig = plt.figure(figsize=[12,8])  # start a new figure with a certain size\n",
    "ax = fig.gca()                    # get the figure axes\n",
    "_ = df_fc.plot.hist(ax=ax, figsize=(12,8), legend=True, alpha=0.5, density=SCALED)\n",
    "df_mc.plot.hist(ax=ax,legend=True, alpha=0.5, density=SCALED)\n",
    "#_ = ax.set_xlim((0,1.5))\n",
    "_ = ax.legend([\"Female\", \"Male\"])\n",
    "_ = ax.set_xlabel(X_TITLE)\n",
    "_ = ax.set_ylabel('Frequency')\n",
    "if SCALED: ax.set_ylabel('Normalized Frequency')\n"
   ]
  },
  {
   "cell_type": "markdown",
   "metadata": {},
   "source": [
    "### we can achieve the same without even knowing the number or name of the groups"
   ]
  },
  {
   "cell_type": "code",
   "execution_count": null,
   "metadata": {},
   "outputs": [],
   "source": [
    "# define a few things upfront\n",
    "group_names = list(df_G.groups.keys())  # all the gender group names present in the data\n",
    "quant = 0.25  # quantile to remove outliers \n",
    "\n",
    "fig = plt.figure(figsize=[12,8])  # start a new figure with a certain size\n",
    "ax = fig.gca()                    # get the figure axes\n",
    "\n",
    "_ = remove_outliers(df_G.get_group(group_names[0])[VALUE_COLUMN], low=quant).plot.hist(ax=ax, figsize=(12,8), legend=True, alpha=0.5, density=SCALED)\n",
    "for g in group_names[1:]:  # create a subplot for all remaining groups\n",
    "    try:\n",
    "        _ = remove_outliers(df_G.get_group(g)[VALUE_COLUMN], low=quant).plot.hist(ax=ax, figsize=(12,8), legend=True, alpha=0.5, density=SCALED)\n",
    "    except: # sometimes the group keys have NaN values: Not good!\n",
    "        next\n",
    "_ = ax.legend(group_names)\n",
    "_ = ax.set_xlabel(X_TITLE)\n",
    "_ = ax.set_ylabel('Frequency')\n",
    "if SCALED: ax.set_ylabel('Normalized Frequency')"
   ]
  },
  {
   "cell_type": "markdown",
   "metadata": {},
   "source": [
    "Let's do something a bit more exciting!"
   ]
  },
  {
   "cell_type": "code",
   "execution_count": null,
   "metadata": {},
   "outputs": [],
   "source": [
    "fig = plt.figure(figsize=[12,8])  # start a new figure with a certain size\n",
    "ax = fig.gca()                    # get the figure axes\n",
    "\n",
    "_ = df.boxplot(ax=ax, by=GROUPBY, column=VALUE_COLUMN, vert=False)\n",
    "_ = ax.set_xlabel(X_TITLE)\n",
    "_ = ax.set_ylabel(Y_TITLE)\n",
    "_ = ax.set_title('')"
   ]
  },
  {
   "cell_type": "code",
   "execution_count": null,
   "metadata": {},
   "outputs": [],
   "source": [
    "fig = plt.figure(figsize=[12,8])  # start a new figure with a certain size\n",
    "ax = fig.gca()                    # get the figure axes\n",
    "\n",
    "dfc = df\n",
    "# dfc = df.loc[df.Reaction_time <= 1.5]\n",
    "\n",
    "if len(GROUPBY) == 2:\n",
    "    _ = sns.violinplot(data=dfc, x=GROUPBY[0], y=VALUE_COLUMN, hue=GROUPBY[1], split=True, inner=\"quartile\", bw=0.25, cut=0)\n",
    "else:\n",
    "    dfc['dummy'] = 'A'\n",
    "    _ = sns.violinplot(data=dfc, x='dummy', y=VALUE_COLUMN, hue=GROUPBY[0], width=0.25, split=True, inner=\"quartile\", bw=0.25, cut=0)\n",
    "    _ = ax.set_xlabel(X_TITLE)\n",
    "    _ = ax.set_xticklabels('')\n",
    "_ = ax.set_ylabel(Y_TITLE)\n",
    "_ = ax.set_title('')"
   ]
  },
  {
   "cell_type": "code",
   "execution_count": null,
   "metadata": {
    "tags": []
   },
   "outputs": [],
   "source": [
    "fig = plt.figure(figsize=[12,8])  # start a new figure with a certain size\n",
    "ax = fig.gca()                    # get the figure axes\n",
    "\n",
    "_ = sns.regplot(x=df['Height'],y=df['Arm_Span'])\n",
    "\n",
    "fig = plt.figure(figsize=[12,8])  # start a new figure with a certain size\n",
    "ax = fig.gca()                    # get the figure axes\n",
    "_ = sns.residplot(x=df['Height'],y=df['Arm_Span'])"
   ]
  },
  {
   "cell_type": "markdown",
   "metadata": {},
   "source": [
    "### Same but using a feature rich stats library"
   ]
  },
  {
   "cell_type": "code",
   "execution_count": null,
   "metadata": {
    "tags": []
   },
   "outputs": [],
   "source": [
    "X = sm.add_constant(df['Height'])  # make sure the algorithm has enough degrees of freedom\n",
    "Y = df['Arm_Span']                 # use Arm_Span; Hypothesis: Arm_Span ~= Height\n",
    "model = sm.OLS(Y, X).fit()         # Perform the fit\n",
    "print(model.summary())             # show fitting summary"
   ]
  },
  {
   "cell_type": "markdown",
   "metadata": {},
   "source": [
    "### R-squared is 0.508, a reasonable fit, but the data has quite a few outliers\n",
    "\n",
    "### Cleanup outliers:"
   ]
  },
  {
   "cell_type": "code",
   "execution_count": null,
   "metadata": {
    "tags": []
   },
   "outputs": [],
   "source": [
    "out = model.outlier_test()     # check for outliers\n",
    "\n",
    "select = abs(out['student_resid']) <= 2.  \n",
    "\n",
    "yfit_df = pd.DataFrame(model.fittedvalues)  # the fitted values (on the line)\n",
    "\n",
    "Xdf = pd.DataFrame(X.values[:,1])\n",
    "Ydf = pd.DataFrame(Y)\n",
    "Xclean = Xdf.loc[(select).values].values # remove all X coords with a residual > 2\n",
    "Yclean = Ydf.loc[(select).values].values # remove all Y coords with a residual > 2\n",
    "yfit_clean = yfit_df.loc[(select).values].values\n",
    "\n",
    "print(\"{0} outliers identified:\".format(len(df['Height']) - len(Xclean)))\n",
    "\n",
    "# perform the fit without outliers\n",
    "Xfit = sm.add_constant(Xclean)\n",
    "cfit = sm.OLS(Yclean, Xfit).fit()\n",
    "print(\"Fit results without outliers:\")\n",
    "print(cfit.summary())"
   ]
  },
  {
   "cell_type": "markdown",
   "metadata": {},
   "source": [
    "### R-squared is now 0.791: quite an improvement!"
   ]
  },
  {
   "cell_type": "code",
   "execution_count": null,
   "metadata": {},
   "outputs": [],
   "source": [
    "fig = plt.figure(figsize=[12,8])  # start a new figure with a certain size\n",
    "ax = fig.gca()                    # get the figure axes\n",
    "\n",
    "_ = plt.scatter(df['Height'], Y)\n",
    "_ = plt.plot(df['Height'], model.fittedvalues, color=\"red\")     # fit line with outliers\n",
    "_ = plt.scatter(Xclean, Yclean, color=\"orange\")                 # points selected\n",
    "_ = plt.plot(Xclean, cfit.fittedvalues, color=\"green\")          # fit line without outliers\n",
    "ax.set_xlabel('Height [cm]')\n",
    "ax.set_ylabel('Arm span [cm]')\n",
    "plt.show()"
   ]
  },
  {
   "cell_type": "code",
   "execution_count": null,
   "metadata": {
    "tags": []
   },
   "outputs": [],
   "source": [
    "print(outlier_cutoff(df_f))"
   ]
  },
  {
   "cell_type": "code",
   "execution_count": null,
   "metadata": {},
   "outputs": [],
   "source": [
    "np.sqrt(0.)"
   ]
  },
  {
   "cell_type": "code",
   "execution_count": null,
   "metadata": {},
   "outputs": [],
   "source": []
  }
 ],
 "metadata": {
  "hide_input": false,
  "kernelspec": {
   "name": "Python 3.8.5 64-bit",
   "display_name": "Python 3.8.5 64-bit",
   "metadata": {
    "interpreter": {
     "hash": "aee8b7b246df8f9039afb4144a1f6fd8d2ca17a180786b69acc140d282b71a49"
    }
   }
  },
  "language_info": {
   "codemirror_mode": {
    "name": "ipython",
    "version": 3
   },
   "file_extension": ".py",
   "mimetype": "text/x-python",
   "name": "python",
   "nbconvert_exporter": "python",
   "pygments_lexer": "ipython3",
   "version": "3.8.5-final"
  }
 },
 "nbformat": 4,
 "nbformat_minor": 2
}